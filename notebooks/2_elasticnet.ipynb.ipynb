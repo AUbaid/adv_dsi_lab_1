{
 "cells": [
  {
   "cell_type": "code",
   "execution_count": 1,
   "id": "227bc516-1ff7-4d1a-b99f-3cad23220dd9",
   "metadata": {},
   "outputs": [],
   "source": [
    "import pandas as pd\n",
    "import numpy as np\n",
    "from joblib import dump\n",
    "X_train = np.load('C:/Users/139076/Documents/AADSI-2024/data/processed/X_train.npy')\n",
    "X_val   = np.load('C:/Users/139076/Documents/AADSI-2024/data/processed/X_val.npy'  )\n",
    "X_test  = np.load('C:/Users/139076/Documents/AADSI-2024/data/processed/X_test.npy' )\n",
    "y_train = np.load('C:/Users/139076/Documents/AADSI-2024/data/processed/y_train.npy')\n",
    "y_val   = np.load('C:/Users/139076/Documents/AADSI-2024/data/processed/y_val.npy'  )\n",
    "y_test  = np.load('C:/Users/139076/Documents/AADSI-2024/data/processed/y_test.npy' )"
   ]
  },
  {
   "cell_type": "code",
   "execution_count": 2,
   "id": "f1797257-b468-4363-9290-c1aa39e81056",
   "metadata": {},
   "outputs": [
    {
     "data": {
      "text/plain": [
       "(25372, 59)"
      ]
     },
     "execution_count": 2,
     "metadata": {},
     "output_type": "execute_result"
    }
   ],
   "source": [
    "X_train.shape"
   ]
  },
  {
   "cell_type": "code",
   "execution_count": null,
   "id": "95fc8ab0-a4f1-445c-a0e1-dded84feffc4",
   "metadata": {},
   "outputs": [],
   "source": [
    "from sklearn.linear_model import ElasticNet\n",
    "reg = ElasticNet()\n",
    "reg.fit(X_train, y_train)\n",
    "dump(reg,  'dump(reg,  '../models/elasticnet_default.joblib')"
   ]
  }
 ],
 "metadata": {
  "kernelspec": {
   "display_name": "Python 3 (ipykernel)",
   "language": "python",
   "name": "python3"
  },
  "language_info": {
   "codemirror_mode": {
    "name": "ipython",
    "version": 3
   },
   "file_extension": ".py",
   "mimetype": "text/x-python",
   "name": "python",
   "nbconvert_exporter": "python",
   "pygments_lexer": "ipython3",
   "version": "3.10.12"
  }
 },
 "nbformat": 4,
 "nbformat_minor": 5
}
